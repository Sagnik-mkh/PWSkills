{
  "nbformat": 4,
  "nbformat_minor": 0,
  "metadata": {
    "colab": {
      "provenance": []
    },
    "kernelspec": {
      "name": "python3",
      "display_name": "Python 3"
    },
    "language_info": {
      "name": "python"
    }
  },
  "cells": [
    {
      "cell_type": "markdown",
      "source": [
        "# HTML Assignment - 2"
      ],
      "metadata": {
        "id": "uRoArTYrLkEv"
      }
    },
    {
      "cell_type": "markdown",
      "source": [
        "1. Write a simple program in HTML  that displays the heading \"HTML defines the content and structure of\n",
        "your website” on the web browser ?"
      ],
      "metadata": {
        "id": "cZZG0NkwLrhi"
      }
    },
    {
      "cell_type": "code",
      "source": [
        "# The HTML code which generates the mentioned heading is as follows :-\n",
        "<!DOCTYPE html>\n",
        "<html lang=\"en\">\n",
        "<head>\n",
        "    <meta charset=\"UTF-8\">\n",
        "    <meta name=\"viewport\" content=\"width=device-width, initial-scale=1.0\">\n",
        "    <title>Document</title>\n",
        "</head>\n",
        "<body>\n",
        "    <h1>HTML defines the content and structure of your website</h1>\n",
        "</body>\n",
        "</html>"
      ],
      "metadata": {
        "id": "unT1fYR_M2cI"
      },
      "execution_count": 1,
      "outputs": []
    },
    {
      "cell_type": "markdown",
      "source": [
        "2. Explain the purpose of comments in HTML and provide an example of how to use comments in an HTML\n",
        "document?\n",
        "\n",
        "  Ans) Comments are non executable block of code which help a developer to add notes, instructions and other aspects for reference. In HTML comments are not read by the browser, they are used for documentation.\n",
        "\n",
        "  **Syntax**:-\n",
        "\n",
        "  <! *Write your comment here* -->\n",
        "\n",
        "  **<!** = Opening of the comment.\n",
        "  **-->** = Closing of the comment.\n",
        "\n",
        "  The opening and closing of the comments both are mandatory. If the closing of the comment is ot done then everything after the opening will be commented.\n",
        "\n"
      ],
      "metadata": {
        "id": "b1tTZKVWNKcl"
      }
    },
    {
      "cell_type": "markdown",
      "source": [
        "3. C Write an HTML program that includes a heading, a paragraph of text, a horizontal line, and a line break.\n",
        "Arrange these elements to create a simple web page layout?"
      ],
      "metadata": {
        "id": "an_izTLnYQRK"
      }
    },
    {
      "cell_type": "code",
      "source": [
        "# The code to generate the web page layout as mention.\n",
        "<!DOCTYPE html>\n",
        "<html lang=\"en\">\n",
        "<head>\n",
        "    <meta charset=\"UTF-8\">\n",
        "    <meta name=\"viewport\" content=\"width=device-width, initial-scale=1.0\">\n",
        "    <title>Document</title>\n",
        "</head>\n",
        "<body>\n",
        "    <h1>Web development</h1>\n",
        "    <hr>\n",
        "    <h2>Introduction to Web Development</h2>\n",
        "    <p>Web development refers to the process of building and maintaining websites.\n",
        "    It encompasses everything from creating simple static pages to complex dynamic applications.\n",
        "    <br>Web development typically involves coding languages such as HTML, CSS, and JavaScript for\n",
        "    front-end development, which is responsible for the design and user interaction.\n",
        "    <br>On the back-end, server-side programming languages like PHP, Python, Ruby, and Java are\n",
        "    used to handle data storage, user authentication, and interactions with databases.</p>\n",
        "    <hr>\n",
        "    <h2>Key Aspects of Web Development</h2>\n",
        "    <p>Web development also includes frameworks and content management systems (CMS) like React,\n",
        "    Angular, WordPress, and Django that simplify and speed up the development process.\n",
        "    <br>The goal of web development is to create responsive, functional, and\n",
        "    user-friendly websites that deliver an\n",
        "    excellent experience across various devices and screen sizes.\n",
        "    <br>As the digital landscape evolves, web development continues to integrate new\n",
        "    technologies and techniques, making it an exciting field that constantly\n",
        "    adapts to meet the needs of users and businesses.</p>\n",
        "</body>\n",
        "</html>"
      ],
      "metadata": {
        "id": "Oj9TwvCBOufF"
      },
      "execution_count": null,
      "outputs": []
    },
    {
      "cell_type": "markdown",
      "source": [
        "4. Write a short note on Tag and element with an example?\n",
        "\n",
        "  Ans) Tags are the smallest building blocks of HTML. Using multiple tags we can create a web page. Tags provide instruction on how to display the contents in a webpage. <br>\n",
        "\n",
        "  The tags opens with a less than symbol \"<\" followed by tag name (eg p, hr) or slash & name (eg /p, /h2) then ends with a greater than symbol \">\".\n",
        "\n",
        "  Tags can be broadly classified into 2 types. <br>\n",
        "  a. Self closing tags -  Tags which do not need a closing tag.\n",
        " <br>eg: image tag, horizontal line tag etc<br>\n",
        "  b. Non - Self closing tag -  Tags which need self closing tags.\n",
        "  <br>eg - paragraph tag, heading tags etc"
      ],
      "metadata": {
        "id": "WSiMhbkKluDK"
      }
    },
    {
      "cell_type": "markdown",
      "source": [
        "5. What is the DOCTYPE Declaration in HTML?\n",
        "\n",
        "  Ans)<!DOCTYPE html>: We start the file with `<!DOCTYPE html>`. It tells the browser what type of document to\n",
        "expect eg (HTML)\n",
        "* The <DOCTYPE> declaration represents the document type, and helps browsers to display web pages\n",
        "correctly\n",
        "* It must appear only once, at the top of the page(before HTML tag)\n",
        "* The <DOCTYPE> declaration is not case sensitive. We can write any of the following, it does not give any\n",
        "error."
      ],
      "metadata": {
        "id": "bhknJVAy9Jss"
      }
    }
  ]
}